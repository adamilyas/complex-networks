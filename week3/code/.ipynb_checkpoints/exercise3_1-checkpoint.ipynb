{
 "cells": [
  {
   "cell_type": "code",
   "execution_count": 1,
   "metadata": {},
   "outputs": [],
   "source": [
    "from __future__ import print_function\n",
    "import networkx as nx\n",
    "import numpy as np\n",
    "import matplotlib.pyplot as plt\n",
    "\n",
    "from scipy.stats import binned_statistic"
   ]
  },
  {
   "cell_type": "markdown",
   "metadata": {},
   "source": [
    "# Implementing the Barabási-Albert (BA) model\n",
    "\n",
    "The Barabási-Albert scale-free network model is a model of network growth, \n",
    "\n",
    "where new nodes continuously enter the network and make links to existing nodes with a probability that is\n",
    "linearly proportional to their degree. The steps required for generating a Barabási-Albert scale-\n",
    "free network with N nodes are as follows:\n",
    "\n",
    "1) Create a small seed network which has at least m nodes, \n",
    "- where m is the number of links a new node creates to already existing nodes. For the propose of this exercise, use 3-clique as the seed network.\n",
    "\n",
    "2) Add new nodes to the network until your network has $N$ nodes, such that each entering node has $m$ links and connects to existing nodes proportional to their degrees, chosen with a probability \n",
    "\n",
    "$$p_i = \\frac{k_i}{\\sum_i k_i}$$"
   ]
  },
  {
   "cell_type": "code",
   "execution_count": null,
   "metadata": {},
   "outputs": [],
   "source": [
    "def lin_log_bins(max_degree):\n",
    "    # lin-log binning: for k=1..10 use linear bins, then logarithmic bins\n",
    "    # have the number of logbins such that there are 10 bins per decade\n",
    "\n",
    "    num_logbins = int(np.log10(1.5 * max_degree) - np.log10(1.5)) * 10\n",
    "\n",
    "    # generate log bins from k=1.5 to k=1.5*max(degree)\n",
    "    bins = np.logspace(\n",
    "        np.log10(1.5), np.log10(1.5 * max_degree), num_logbins)\n",
    "\n",
    "    return bins\n",
    "\n",
    "def ba_network(n, m, seedsize=3):\n",
    "    # Generate initial small seed network (clique of seedside nodes)\n",
    "    net = nx.complete_graph(seedsize)\n",
    "\n",
    "    # YOUR CODE HERE\n",
    "    # Grow the network here\n",
    "\n",
    "    return net"
   ]
  },
  {
   "cell_type": "code",
   "execution_count": 10,
   "metadata": {},
   "outputs": [],
   "source": [
    "G=nx.empty_graph(3)"
   ]
  },
  {
   "cell_type": "code",
   "execution_count": 11,
   "metadata": {},
   "outputs": [
    {
     "data": {
      "image/png": "[encoded data removed]",
      "text/plain": [
       "<Figure size 432x288 with 1 Axes>"
      ]
     },
     "metadata": {},
     "output_type": "display_data"
    }
   ],
   "source": [
    "nx.draw(G)"
   ]
  },
  {
   "cell_type": "code",
   "execution_count": 13,
   "metadata": {},
   "outputs": [
    {
     "data": {
      "text/plain": [
       "NodeView((0, 1, 2))"
      ]
     },
     "execution_count": 13,
     "metadata": {},
     "output_type": "execute_result"
    }
   ],
   "source": [
    "\"\"\"Return random graph using Barabási-Albert preferential attachment model.\n",
    "\n",
    "A graph of n nodes is grown by attaching new nodes each with m\n",
    "edges that are preferentially attached to existing nodes with high\n",
    "degree.\n",
    "\n",
    "Parameters\n",
    "----------\n",
    "n : int\n",
    "    Number of nodes\n",
    "m : int\n",
    "    Number of edges to attach from a new node to existing nodes\n",
    "seed : int, optional\n",
    "    Seed for random number generator (default=None).\n",
    "\n",
    "Returns\n",
    "-------\n",
    "G : Graph\n",
    "\n",
    "Notes\n",
    "-----\n",
    "The initialization is a graph with with m nodes and no edges.\n",
    "\"\"\"\n",
    "\n",
    "m = 3\n",
    "# Add m initial nodes (m0 in barabasi-speak)\n",
    "G=nx.empty_graph(m)\n",
    "\n",
    "G.nodes"
   ]
  },
  {
   "cell_type": "code",
   "execution_count": 14,
   "metadata": {},
   "outputs": [
    {
     "data": {
      "text/plain": [
       "[0, 1, 2]"
      ]
     },
     "execution_count": 14,
     "metadata": {},
     "output_type": "execute_result"
    }
   ],
   "source": [
    "# Target nodes for new edges\n",
    "targets=list(range(m))\n",
    "\n",
    "targets"
   ]
  },
  {
   "cell_type": "code",
   "execution_count": 16,
   "metadata": {},
   "outputs": [
    {
     "ename": "NameError",
     "evalue": "name '_random_subset' is not defined",
     "output_type": "error",
     "traceback": [
      "\u001b[0;31m---------------------------------------------------------------------------\u001b[0m",
      "\u001b[0;31mNameError\u001b[0m                                 Traceback (most recent call last)",
      "\u001b[0;32m<ipython-input-16-1f0998a2cbdd>\u001b[0m in \u001b[0;36m<module>\u001b[0;34m()\u001b[0m\n\u001b[1;32m     15\u001b[0m     \u001b[0;31m# Now choose m unique nodes from the existing nodes\u001b[0m\u001b[0;34m\u001b[0m\u001b[0;34m\u001b[0m\u001b[0m\n\u001b[1;32m     16\u001b[0m     \u001b[0;31m# Pick uniformly from repeated_nodes (preferential attachement)\u001b[0m\u001b[0;34m\u001b[0m\u001b[0;34m\u001b[0m\u001b[0m\n\u001b[0;32m---> 17\u001b[0;31m     \u001b[0mtargets\u001b[0m \u001b[0;34m=\u001b[0m \u001b[0m_random_subset\u001b[0m\u001b[0;34m(\u001b[0m\u001b[0mrepeated_nodes\u001b[0m\u001b[0;34m,\u001b[0m\u001b[0mm\u001b[0m\u001b[0;34m)\u001b[0m\u001b[0;34m\u001b[0m\u001b[0m\n\u001b[0m\u001b[1;32m     18\u001b[0m     \u001b[0msource\u001b[0m \u001b[0;34m+=\u001b[0m \u001b[0;36m1\u001b[0m\u001b[0;34m\u001b[0m\u001b[0m\n",
      "\u001b[0;31mNameError\u001b[0m: name '_random_subset' is not defined"
     ]
    }
   ],
   "source": [
    "n = 200 # number of nodes\n",
    "m = 1 # number of edges to attach from new nodes to existing nodes\n",
    "\n",
    "# List of existing nodes, with nodes repeated once for each adjacent edge\n",
    "repeated_nodes=[]\n",
    "# Start adding the other n-m nodes. The first node is m.\n",
    "source=m # 3\n",
    "while source<n:\n",
    "    # Add edges to m nodes from the source.\n",
    "    G.add_edges_from(zip([source]*m,targets))\n",
    "    # Add one node to the list for each new edge just created.\n",
    "    repeated_nodes.extend(targets)\n",
    "    # And the new node \"source\" has m edges to add to the list.\n",
    "    repeated_nodes.extend([source]*m)\n",
    "    # Now choose m unique nodes from the existing nodes\n",
    "    # Pick uniformly from repeated_nodes (preferential attachement)\n",
    "    targets = nx._random_subset(repeated_nodes,m)\n",
    "    source += 1"
   ]
  },
  {
   "cell_type": "code",
   "execution_count": 20,
   "metadata": {},
   "outputs": [
    {
     "data": {
      "text/plain": [
       "[(1, 0)]"
      ]
     },
     "execution_count": 20,
     "metadata": {},
     "output_type": "execute_result"
    }
   ],
   "source": [
    "list(zip([source]*m,targets))"
   ]
  },
  {
   "cell_type": "code",
   "execution_count": 21,
   "metadata": {},
   "outputs": [
    {
     "data": {
      "text/plain": [
       "1"
      ]
     },
     "execution_count": 21,
     "metadata": {},
     "output_type": "execute_result"
    }
   ],
   "source": [
    "source"
   ]
  },
  {
   "cell_type": "code",
   "execution_count": null,
   "metadata": {},
   "outputs": [],
   "source": []
  }
 ],
 "metadata": {
  "kernelspec": {
   "display_name": "Python 3",
   "language": "python",
   "name": "python3"
  },
  "language_info": {
   "codemirror_mode": {
    "name": "ipython",
    "version": 3
   },
   "file_extension": ".py",
   "mimetype": "text/x-python",
   "name": "python",
   "nbconvert_exporter": "python",
   "pygments_lexer": "ipython3",
   "version": "3.6.5"
  }
 },
 "nbformat": 4,
 "nbformat_minor": 2
}

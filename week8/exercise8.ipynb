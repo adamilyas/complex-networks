{
 "cells": [
  {
   "cell_type": "markdown",
   "metadata": {},
   "source": [
    "# 1. Community detection overview\n",
    "\n",
    "In this exercise, we will get some hands-on experience on community detection. You will be\n",
    "studying two networks, the network of dolphins `dolphins.edg` and an artificial graph lfr100.edg\n",
    "with a built-in community structure `lfr100.cmtys`.\n",
    "The actual community detections are performed using a online community detection service Jako\n",
    "CD. As a first step, open your favorite browser and find your way to http://jako.complex.cs.aalto.fi."
   ]
  },
  {
   "cell_type": "code",
   "execution_count": 1,
   "metadata": {},
   "outputs": [],
   "source": [
    "from com_det_benchmarking import get_n_nodes\n",
    "from com_det_benchmarking import mutual_information\n",
    "from com_det_benchmarking import entropy\n",
    "from com_det_benchmarking import vi\n",
    "from com_det_benchmarking import load_coms \n",
    "\n",
    "#from com_det_benchmarking import log2\n",
    "# This function allows you to use log2(x) later in the code instead of log(x, 2)\n",
    "log2 = lambda x: log(x, 2)"
   ]
  },
  {
   "cell_type": "code",
   "execution_count": 2,
   "metadata": {},
   "outputs": [
    {
     "data": {
      "text/plain": [
       "'/home/adam/Desktop/work/complex-networks/week8/data'"
      ]
     },
     "execution_count": 2,
     "metadata": {},
     "output_type": "execute_result"
    }
   ],
   "source": [
    "import networkx as nx\n",
    "import numpy as np\n",
    "import matplotlib.pyplot as plt\n",
    "\n",
    "%matplotlib inline\n",
    "\n",
    "import os\n",
    "os.chdir('./data')\n",
    "os.getcwd()"
   ]
  },
  {
   "cell_type": "code",
   "execution_count": 3,
   "metadata": {},
   "outputs": [
    {
     "name": "stdout",
     "output_type": "stream",
     "text": [
      "1.03230129690871\n",
      "2.220446049250313e-16\n",
      "0.0\n"
     ]
    }
   ],
   "source": [
    "# First step: testing the code:\n",
    "test1 = {1:[1, 2, 3, 4, 5, 6, 7, 8, 9], 2:[10, 11, 12]}\n",
    "test2 = {1:[1, 2, 3, 4, 5, 6, 7], 2:[8, 9, 10], 3:[11, 12]}\n",
    "\n",
    "print(vi(test1, test2))\n",
    "print(vi(test1, test1))\n",
    "print(vi(test2, test2))"
   ]
  },
  {
   "cell_type": "code",
   "execution_count": 4,
   "metadata": {},
   "outputs": [
    {
     "name": "stdout",
     "output_type": "stream",
     "text": [
      "Ground vs Infomap: 0.923\n",
      "Ground vs Girvan-Newman: 2.144\n",
      "Ground vs Louvain: 1.516\n",
      "Ground vs Stochastic block model: 2.763\n",
      "Infomap vs Ground: 0.923\n",
      "Infomap vs Girvan-Newman: 1.988\n",
      "Infomap vs Louvain: 1.024\n",
      "Infomap vs Stochastic block model: 2.768\n",
      "Girvan-Newman vs Ground: 2.144\n",
      "Girvan-Newman vs Infomap: 1.988\n",
      "Girvan-Newman vs Louvain: 2.468\n",
      "Girvan-Newman vs Stochastic block model: 3.684\n",
      "Louvain vs Ground: 1.516\n",
      "Louvain vs Infomap: 1.024\n",
      "Louvain vs Girvan-Newman: 2.468\n",
      "Louvain vs Stochastic block model: 2.765\n",
      "Stochastic block model vs Ground: 2.763\n",
      "Stochastic block model vs Infomap: 2.768\n",
      "Stochastic block model vs Girvan-Newman: 3.684\n",
      "Stochastic block model vs Louvain: 2.765\n"
     ]
    }
   ],
   "source": [
    "filenames = ['lfr100.cmtys','infomap.cmtys','girvan.cmtys','louvain.cmtys','block.cmtys']\n",
    "\n",
    "models = [load_coms(fn) for fn in filenames]\n",
    "\n",
    "names =['Ground', 'Infomap', 'Girvan-Newman', 'Louvain', 'Stochastic block model']\n",
    "for model1,name1 in zip(models, names):\n",
    "    for model2,name2 in zip(models, names):\n",
    "        if model1 == model2:\n",
    "            continue\n",
    "        result = round(float(vi(model1, model2)),3)\n",
    "        print(f\"{name1} vs {name2}: {result}\")"
   ]
  },
  {
   "cell_type": "code",
   "execution_count": null,
   "metadata": {},
   "outputs": [],
   "source": []
  },
  {
   "cell_type": "code",
   "execution_count": null,
   "metadata": {},
   "outputs": [],
   "source": []
  },
  {
   "cell_type": "code",
   "execution_count": 5,
   "metadata": {},
   "outputs": [
    {
     "name": "stdout",
     "output_type": "stream",
     "text": [
      "{0: [0, 66, 99, 70, 82, 83, 55, 27, 60, 29], 1: [35, 68, 37, 6, 45, 80, 67, 86, 88, 25, 61], 2: [96, 73, 10, 77, 17, 19, 20, 23, 24, 84, 91], 3: [65, 98, 54, 38, 7, 8, 74, 44, 13, 47, 16, 81, 18, 53, 22, 85, 58, 59, 62, 31], 4: [33, 36, 71, 43, 78, 46, 79, 49, 50, 14, 89, 57, 95, 28, 94, 63], 5: [2, 69, 39, 72, 76, 12, 15, 48, 52, 56, 26, 92, 90, 30], 6: [32, 1, 34, 3, 4, 5, 97, 40, 9, 42, 11, 64, 75, 51, 21, 41, 87, 93]}\n"
     ]
    }
   ],
   "source": [
    "ground = load_coms('lfr100.cmtys')\n",
    "print(ground)\n",
    "# load_coms(fname='lfr100.edg')"
   ]
  },
  {
   "cell_type": "code",
   "execution_count": null,
   "metadata": {},
   "outputs": [],
   "source": []
  }
 ],
 "metadata": {
  "kernelspec": {
   "display_name": "Python 3",
   "language": "python",
   "name": "python3"
  },
  "language_info": {
   "codemirror_mode": {
    "name": "ipython",
    "version": 3
   },
   "file_extension": ".py",
   "mimetype": "text/x-python",
   "name": "python",
   "nbconvert_exporter": "python",
   "pygments_lexer": "ipython3",
   "version": "3.6.5"
  }
 },
 "nbformat": 4,
 "nbformat_minor": 2
}

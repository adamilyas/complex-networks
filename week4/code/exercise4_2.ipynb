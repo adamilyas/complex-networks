{
 "cells": [
  {
   "cell_type": "code",
   "execution_count": 1,
   "metadata": {},
   "outputs": [],
   "source": [
    "import matplotlib.pyplot as plt\n",
    "import numpy as np\n",
    "import networkx as nx\n",
    "import random"
   ]
  },
  {
   "cell_type": "code",
   "execution_count": 2,
   "metadata": {},
   "outputs": [
    {
     "data": {
      "text/plain": [
       "NodeView((1, 2, 3, 4, 5, 6, 7))"
      ]
     },
     "execution_count": 2,
     "metadata": {},
     "output_type": "execute_result"
    },
    {
     "data": {
      "image/png": "[encoded data removed]",
      "text/plain": [
       "<Figure size 432x288 with 1 Axes>"
      ]
     },
     "metadata": {},
     "output_type": "display_data"
    }
   ],
   "source": [
    "g = nx.empty_graph()\n",
    "g.add_edges_from([(1,2), (1,3), (4,5), (4,6), (5,7)])\n",
    "nx.draw(g, with_labels=True)\n",
    "\n",
    "g.node"
   ]
  },
  {
   "cell_type": "code",
   "execution_count": 3,
   "metadata": {},
   "outputs": [
    {
     "data": {
      "text/plain": [
       "7"
      ]
     },
     "execution_count": 3,
     "metadata": {},
     "output_type": "execute_result"
    }
   ],
   "source": [
    "len(g.nodes())"
   ]
  },
  {
   "cell_type": "code",
   "execution_count": 4,
   "metadata": {},
   "outputs": [],
   "source": [
    "def get_giant_size(net):\n",
    "    \"\"\"\n",
    "    Calculates the size of the largest component (i.e. the giant component) of\n",
    "    the network.\n",
    "\n",
    "    Parameters\n",
    "    ----------\n",
    "    net: networkx.Graph() object\n",
    "\n",
    "    Returns\n",
    "    -------\n",
    "    giant_size: int\n",
    "        size of the giant component\n",
    "\n",
    "    \"\"\"\n",
    "    max_size = -1\n",
    "    largest_comp = {}\n",
    "    components = nx.connected_components(net)\n",
    "    for comp in components:\n",
    "        size = len(comp)\n",
    "        if size > max_size:\n",
    "            max_size = size\n",
    "            largest_comp = comp\n",
    "    return largest_comp"
   ]
  },
  {
   "cell_type": "code",
   "execution_count": 5,
   "metadata": {},
   "outputs": [
    {
     "data": {
      "text/plain": [
       "{4, 5, 6, 7}"
      ]
     },
     "execution_count": 5,
     "metadata": {},
     "output_type": "execute_result"
    }
   ],
   "source": [
    "get_giant_size(g)"
   ]
  },
  {
   "cell_type": "code",
   "execution_count": 6,
   "metadata": {},
   "outputs": [],
   "source": [
    "def simulate_edge_removal(orignet, order):\n",
    "    \"\"\"\n",
    "    Performs an edge removal simulation\n",
    "\n",
    "    Parameters\n",
    "    ----------\n",
    "    orignet: networkx.Graph() object\n",
    "        Network in which the edge removal is simulated. A copy of orignet is\n",
    "        created for the simulations, and the original network is not changed.\n",
    "    order: list of tuples\n",
    "        network edges sorted in the order in which they will be removed\n",
    "\n",
    "    Returns\n",
    "    -------\n",
    "    giant_sizes: np.array of ints\n",
    "        sizes of the giant component at different edge densities\n",
    "    \"\"\"\n",
    "    giant_sizes = []\n",
    "    net = orignet.copy() # Creating a copy of the original network\n",
    "    \n",
    "    next_print_frac = 0.1\n",
    "    for idx, edge in enumerate(order):\n",
    "        net.remove_edge(*edge)\n",
    "        giant_sizes.append(get_giant_size(net))\n",
    "        \n",
    "        if idx/len(order) > next_print_frac:\n",
    "            print(\"  {}% completed\".format( round(next_print_frac * 100) ))\n",
    "            next_print_frac += 0.1\n",
    "    return giant_sizes"
   ]
  },
  {
   "cell_type": "code",
   "execution_count": null,
   "metadata": {},
   "outputs": [],
   "source": []
  },
  {
   "cell_type": "code",
   "execution_count": null,
   "metadata": {},
   "outputs": [],
   "source": []
  },
  {
   "cell_type": "code",
   "execution_count": null,
   "metadata": {},
   "outputs": [],
   "source": []
  },
  {
   "cell_type": "code",
   "execution_count": 7,
   "metadata": {},
   "outputs": [],
   "source": [
    "path = './OClinks_w_undir.edg' # You may want to change the path to the edge list file\n",
    "net_name = 'fb-like-network'\n",
    "\"\"\"\n",
    "Sets up framework and runs the edge removal simulation.\n",
    "\n",
    "Parameters\n",
    "----------\n",
    "path: string\n",
    "    path to the network to be analyzed\n",
    "net_name: string\n",
    "    name of the network (for labeling)\n",
    "\n",
    "Returns\n",
    "-------\n",
    "No direct output, saves figure of the giant component size as a function\n",
    "of network density.\n",
    "\"\"\"\n",
    "net = nx.read_weighted_edgelist(path)\n",
    "N = len(net.nodes()) # Replace with the number of nodes\n",
    "edges = list(net.edges()) # Replace with the network edges\n",
    "\n",
    "ascending_weight_edge_order = sorted(\n",
    "    edges,\n",
    "    key=lambda edge: net.get_edge_data(*edge)['weight']\n",
    ") \n",
    "descending_weight_edge_order = ascending_weight_edge_order[::-1]\n",
    "\n",
    "random_edge_order = edges.copy()\n",
    "random.shuffle(random_edge_order)"
   ]
  },
  {
   "cell_type": "code",
   "execution_count": 8,
   "metadata": {},
   "outputs": [],
   "source": [
    "between = nx.edge_betweenness_centrality(net)\n",
    "# sorting the edges by their betweenness:\n",
    "ebc_edge_order = sorted(edges, \n",
    "                        key=lambda edge: between[edge], \n",
    "                        reverse=True)"
   ]
  },
  {
   "cell_type": "code",
   "execution_count": 9,
   "metadata": {},
   "outputs": [
    {
     "name": "stdout",
     "output_type": "stream",
     "text": [
      "W_BIG_FIRST\n",
      "  10% completed\n",
      "  20% completed\n",
      "  30% completed\n",
      "  40% completed\n",
      "  50% completed\n",
      "  60% completed\n",
      "  70% completed\n",
      "  80% completed\n",
      "  90% completed\n"
     ]
    },
    {
     "ename": "TypeError",
     "evalue": "unsupported operand type(s) for /: 'set' and 'float'",
     "output_type": "error",
     "traceback": [
      "\u001b[0;31m---------------------------------------------------------------------------\u001b[0m",
      "\u001b[0;31mTypeError\u001b[0m                                 Traceback (most recent call last)",
      "\u001b[0;32m<ipython-input-9-2f873018251b>\u001b[0m in \u001b[0;36m<module>\u001b[0;34m()\u001b[0m\n\u001b[1;32m     18\u001b[0m     \u001b[0mfracs\u001b[0m \u001b[0;34m=\u001b[0m \u001b[0mnp\u001b[0m\u001b[0;34m.\u001b[0m\u001b[0mlinspace\u001b[0m\u001b[0;34m(\u001b[0m\u001b[0;36m0\u001b[0m\u001b[0;34m,\u001b[0m \u001b[0;36m1\u001b[0m\u001b[0;34m,\u001b[0m \u001b[0mlen\u001b[0m\u001b[0;34m(\u001b[0m\u001b[0mgiant_sizes\u001b[0m\u001b[0;34m)\u001b[0m\u001b[0;34m)\u001b[0m\u001b[0;34m\u001b[0m\u001b[0m\n\u001b[1;32m     19\u001b[0m \u001b[0;34m\u001b[0m\u001b[0m\n\u001b[0;32m---> 20\u001b[0;31m     ax.plot(fracs, np.array(giant_sizes) / float(N), \"-\", color=color, ls=ls,\n\u001b[0m\u001b[1;32m     21\u001b[0m             label=\"g \" + order_name, lw=lw)\n\u001b[1;32m     22\u001b[0m \u001b[0;34m\u001b[0m\u001b[0m\n",
      "\u001b[0;31mTypeError\u001b[0m: unsupported operand type(s) for /: 'set' and 'float'"
     ]
    },
    {
     "data": {
      "image/png": "[encoded data removed]",
      "text/plain": [
       "<Figure size 432x432 with 1 Axes>"
      ]
     },
     "metadata": {},
     "output_type": "display_data"
    }
   ],
   "source": [
    "fig = plt.figure(figsize=(6, 6))\n",
    "ax = fig.add_subplot(111)\n",
    "fig.suptitle(net_name)\n",
    "\n",
    "# edge removal:\n",
    "for order, order_name, color, ls, lw in zip(\n",
    "    [descending_weight_edge_order, ascending_weight_edge_order,\n",
    "     random_edge_order, ebc_edge_order],\n",
    "    [\"w_big_first\",\n",
    "     \"w_small_first\", 'random', \"betweenness\"],\n",
    "    [\"r\", \"y\", \"b\", \"k\"],\n",
    "    [\"-\", \"-\", \"-\", \"-\"],\n",
    "    [2, 3, 4, 5]\n",
    "):\n",
    "    print(order_name.upper())\n",
    "\n",
    "    giant_sizes = simulate_edge_removal(net, order)\n",
    "    fracs = np.linspace(0, 1, len(giant_sizes))\n",
    "\n",
    "    ax.plot(fracs, np.array(giant_sizes) / float(N), \"-\", color=color, ls=ls,\n",
    "            label=\"g \" + order_name, lw=lw)\n",
    "\n",
    "    ax.set_ylabel('Largest Component Size (relative to network size)') \n",
    "    ax.set_xlabel('Fraction of Removed Links')\n",
    "\n",
    "    ax.legend(loc=2)"
   ]
  },
  {
   "cell_type": "code",
   "execution_count": null,
   "metadata": {},
   "outputs": [],
   "source": [
    "simulate_edge_removal(net, order)"
   ]
  },
  {
   "cell_type": "code",
   "execution_count": null,
   "metadata": {},
   "outputs": [],
   "source": []
  }
 ],
 "metadata": {
  "kernelspec": {
   "display_name": "Python 3",
   "language": "python",
   "name": "python3"
  },
  "language_info": {
   "codemirror_mode": {
    "name": "ipython",
    "version": 3
   },
   "file_extension": ".py",
   "mimetype": "text/x-python",
   "name": "python",
   "nbconvert_exporter": "python",
   "pygments_lexer": "ipython3",
   "version": "3.6.5"
  }
 },
 "nbformat": 4,
 "nbformat_minor": 2
}
